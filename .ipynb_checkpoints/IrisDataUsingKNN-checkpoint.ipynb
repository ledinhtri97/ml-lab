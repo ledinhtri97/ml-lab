{
 "cells": [
  {
   "cell_type": "code",
   "execution_count": 1,
   "metadata": {
    "collapsed": true
   },
   "outputs": [],
   "source": [
    "    import numpy as np\n",
    "    import matplotlib.pyplot as plt\n",
    "    from sklearn import neighbors, datasets"
   ]
  },
  {
   "cell_type": "code",
   "execution_count": null,
   "metadata": {
    "collapsed": true
   },
   "outputs": [],
   "source": [
    "iris = datasets.load_iris()\n",
    "iris_X = iris.data\n",
    "iris_y = iris.target\n",
    "\n",
    "print(\"So lop: %d\", len(np.unique(iris_y)))\n",
    "print(\"So du lieu thu: %d\", len(iris_y))\n",
    "\n",
    "\n",
    "X0 = iris_X[iris_y == 0, :]\n",
    "print(\"Mau don gian tu lop 0: \\n\", X0[:5, :])\n",
    "\n",
    "X1 = iris_X[iris_y == 1, :]\n",
    "print(\"Mau don gian tu lop 1: \\n\", X1[:5, :])\n",
    "\n",
    "X2 = iris_X[iris_y == 2, :]\n",
    "print(\"Mau don gian tu lop 2: \\n\", X2[:5, :])"
   ]
  }
 ],
 "metadata": {
  "kernelspec": {
   "display_name": "Python 3",
   "language": "python",
   "name": "python3"
  },
  "language_info": {
   "codemirror_mode": {
    "name": "ipython",
    "version": 3
   },
   "file_extension": ".py",
   "mimetype": "text/x-python",
   "name": "python",
   "nbconvert_exporter": "python",
   "pygments_lexer": "ipython3",
   "version": "3.6.1"
  }
 },
 "nbformat": 4,
 "nbformat_minor": 2
}
