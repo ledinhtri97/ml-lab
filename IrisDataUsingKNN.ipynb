{
 "cells": [
  {
   "cell_type": "code",
   "execution_count": 1,
   "metadata": {
    "collapsed": true
   },
   "outputs": [],
   "source": [
    "    import numpy as np\n",
    "    import matplotlib.pyplot as plt\n",
    "    from sklearn import neighbors, datasets, tree\n",
    "    import graphviz"
   ]
  },
  {
   "cell_type": "code",
   "execution_count": 2,
   "metadata": {},
   "outputs": [
    {
     "name": "stdout",
     "output_type": "stream",
     "text": [
      "So lop:  3\n",
      "So du lieu thu:  150\n",
      "Mau don gian tu lop 0: \n",
      " [[ 5.1  3.5  1.4  0.2]\n",
      " [ 4.9  3.   1.4  0.2]\n",
      " [ 4.7  3.2  1.3  0.2]\n",
      " [ 4.6  3.1  1.5  0.2]\n",
      " [ 5.   3.6  1.4  0.2]]\n",
      "Mau don gian tu lop 1: \n",
      " [[ 7.   3.2  4.7  1.4]\n",
      " [ 6.4  3.2  4.5  1.5]\n",
      " [ 6.9  3.1  4.9  1.5]\n",
      " [ 5.5  2.3  4.   1.3]\n",
      " [ 6.5  2.8  4.6  1.5]]\n",
      "Mau don gian tu lop 2: \n",
      " [[ 6.3  3.3  6.   2.5]\n",
      " [ 5.8  2.7  5.1  1.9]\n",
      " [ 7.1  3.   5.9  2.1]\n",
      " [ 6.3  2.9  5.6  1.8]\n",
      " [ 6.5  3.   5.8  2.2]]\n"
     ]
    }
   ],
   "source": [
    "iris = datasets.load_iris()\n",
    "iris_X = iris.data\n",
    "iris_y = iris.target\n",
    "\n",
    "print(\"So lop: \", len(np.unique(iris_y)))\n",
    "print(\"So du lieu thu: \", len(iris_y))\n",
    "\n",
    "\n",
    "X0 = iris_X[iris_y == 0, :]\n",
    "print(\"Mau don gian tu lop 0: \\n\", X0[:5, :])\n",
    "\n",
    "X1 = iris_X[iris_y == 1, :]\n",
    "print(\"Mau don gian tu lop 1: \\n\", X1[:5, :])\n",
    "\n",
    "X2 = iris_X[iris_y == 2, :]\n",
    "print(\"Mau don gian tu lop 2: \\n\", X2[:5, :])"
   ]
  },
  {
   "cell_type": "code",
   "execution_count": 4,
   "metadata": {
    "collapsed": true
   },
   "outputs": [],
   "source": [
    "clf = tree.DecisionTreeClassifier()\n",
    "clf = clf.fit(iris_X, iris_y)\n",
    "\n",
    "tree.export_graphviz(clf, out_file=\"tree.dot\")\n",
    "dot_data = tree.export_graphviz(clf, \n",
    "\tout_file=None,\n",
    "\tfeature_names=iris.feature_names,  \n",
    "\tclass_names=iris.target_names,  \n",
    "\tfilled=True, \n",
    "\trounded=True,  \n",
    "\tspecial_characters=True\n",
    "\t)"
   ]
  },
  {
   "cell_type": "code",
   "execution_count": null,
   "metadata": {
    "collapsed": true
   },
   "outputs": [],
   "source": []
  }
 ],
 "metadata": {
  "kernelspec": {
   "display_name": "Python 3",
   "language": "python",
   "name": "python3"
  },
  "language_info": {
   "codemirror_mode": {
    "name": "ipython",
    "version": 3
   },
   "file_extension": ".py",
   "mimetype": "text/x-python",
   "name": "python",
   "nbconvert_exporter": "python",
   "pygments_lexer": "ipython3",
   "version": "3.6.1"
  }
 },
 "nbformat": 4,
 "nbformat_minor": 2
}
